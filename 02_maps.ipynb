{
 "cells": [
  {
   "cell_type": "markdown",
   "metadata": {},
   "source": [
    "# Maps\n",
    "A map can be a static image or it can be an interactive tool that allows the user to zoom, pan, and scroll around a location. An interactive map is made up of sections that make up a grid called tiles. These tiles can be raster images (png) or vector tiles."
   ]
  },
  {
   "cell_type": "markdown",
   "metadata": {},
   "source": [
    "## Leaflet with OSM\n",
    "\n",
    "Open Street Maps (OSM) provides tiles and can be a good starting point which which is why they are the default with Leaflet, a popular JavaScript library for rendering maps."
   ]
  },
  {
   "cell_type": "code",
   "execution_count": null,
   "metadata": {},
   "outputs": [],
   "source": [
    "from ipyleaflet import Map"
   ]
  },
  {
   "cell_type": "code",
   "execution_count": null,
   "metadata": {},
   "outputs": [],
   "source": [
    "Map(center=(41.5, -81.6), zoom=11)"
   ]
  },
  {
   "cell_type": "code",
   "execution_count": null,
   "metadata": {},
   "outputs": [],
   "source": [
    "Map(center=(41.5, -81.6), zoom=11).basemap"
   ]
  },
  {
   "cell_type": "code",
   "execution_count": null,
   "metadata": {},
   "outputs": [],
   "source": [
    "from ipyleaflet import basemaps, basemap_to_tiles\n",
    "\n",
    "basemaps.keys()"
   ]
  },
  {
   "cell_type": "code",
   "execution_count": null,
   "metadata": {},
   "outputs": [],
   "source": [
    "list(basemaps.Stamen.keys())"
   ]
  },
  {
   "cell_type": "code",
   "execution_count": null,
   "metadata": {},
   "outputs": [],
   "source": [
    "\n",
    "from ipywidgets import interact\n",
    "\n",
    "tiles = [\n",
    "    'basemaps.Stamen.Watercolor',\n",
    "    'basemaps.Stamen.Terrain',\n",
    "    'basemaps.Stamen.Toner'\n",
    "]\n",
    "\n",
    "@interact(tiles=tiles, zoom=(1, 18))\n",
    "def create_map(tiles=tiles[0], zoom=10):\n",
    "    lat, lon = 41.5, -81.6\n",
    "    toner = basemap_to_tiles(eval(tiles))\n",
    "    return Map(center=(lat, lon), layers=[toner], zoom=zoom)"
   ]
  },
  {
   "cell_type": "markdown",
   "metadata": {},
   "source": [
    "## Leaflet with HERE Maps\n",
    "\n",
    "Leaflet can also be used with any basemap tile provider such as those from HERE."
   ]
  },
  {
   "cell_type": "code",
   "execution_count": null,
   "metadata": {},
   "outputs": [],
   "source": [
    "import os\n",
    "\n",
    "APP_ID_HERE = os.environ['APP_ID_HERE']\n",
    "APP_CODE_HERE = os.environ['APP_CODE_HERE']"
   ]
  },
  {
   "cell_type": "code",
   "execution_count": null,
   "metadata": {
    "scrolled": true
   },
   "outputs": [],
   "source": [
    "attribution = '<a href=\"http://here.com\">HERE</a>'\n",
    "tile_pattern = (\"https://1.{maptype}.maps.api.here.com\"\n",
    "           \"/maptile/2.1/{tiletype}/newest/{scheme}/{{z}}/{{x}}/{{y}}/{tilesize}/{format}\"\n",
    "           f\"?app_id={APP_ID_HERE}&app_code={APP_CODE_HERE}\")\n",
    "params = {\n",
    "    'app_id': APP_ID_HERE,\n",
    "    'app_code': APP_CODE_HERE,\n",
    "    'maptype': 'traffic',\n",
    "    'tiletype': 'traffictile',\n",
    "    'scheme': 'normal.day',\n",
    "    'tilesize': '256',\n",
    "    'format': 'png8'\n",
    "}\n",
    "heremap = {\n",
    "    'url' : tile_pattern.format(**params), \n",
    "    'attribution' : attribution\n",
    "}\n",
    "Map(center=(41.5, -81.6), zoom=11, basemap=heremap)"
   ]
  },
  {
   "cell_type": "code",
   "execution_count": null,
   "metadata": {},
   "outputs": [],
   "source": [
    "params.update({'maptype': 'base', 'tiletype': 'trucktile'})\n",
    "heremap = {\n",
    "    'url' : tile_pattern.format(**params), \n",
    "    'attribution' : attribution\n",
    "}\n",
    "Map(center=(41.5, -81.6), zoom=11, basemap=heremap)"
   ]
  }
 ],
 "metadata": {
  "kernelspec": {
   "display_name": "Python 3",
   "language": "python",
   "name": "python3"
  },
  "language_info": {
   "codemirror_mode": {
    "name": "ipython",
    "version": 3
   },
   "file_extension": ".py",
   "mimetype": "text/x-python",
   "name": "python",
   "nbconvert_exporter": "python",
   "pygments_lexer": "ipython3",
   "version": "3.7.0"
  }
 },
 "nbformat": 4,
 "nbformat_minor": 2
}
