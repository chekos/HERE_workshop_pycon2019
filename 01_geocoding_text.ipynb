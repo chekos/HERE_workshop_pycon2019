{
 "cells": [
  {
   "cell_type": "markdown",
   "metadata": {},
   "source": [
    "# Analyzing Text\n",
    "\n",
    "It may be surprising that not all travel articles include a map.  Understanding where restaurants, hotels, landmarks, and other points of interest are in relation to each other is important for itinerary building.Parsing text to look up places is a good application of forward geocoding.\n",
    "\n",
    "Read this blog post for more background:\n",
    "\n",
    "https://developer.here.com/blog/turn-text-into-here-maps-with-python-nltk"
   ]
  },
  {
   "cell_type": "markdown",
   "metadata": {},
   "source": [
    "Example of a travel article without a map:\n",
    "- [25 Best Things to Do in Cleveland, OH](https://vacationidea.com/destinations/best-things-to-do-in-cleveland.html)\n",
    "- [US News Travel Section](https://travel.usnews.com/Cleveland_OH/Things_To_Do/)"
   ]
  },
  {
   "cell_type": "code",
   "execution_count": null,
   "metadata": {},
   "outputs": [],
   "source": [
    "import bs4\n",
    "import nltk\n",
    "import urllib\n",
    "\n",
    "from nltk.tokenize import RegexpTokenizer\n",
    "from nltk.corpus import stopwords\n",
    "from nltk.tag import pos_tag\n",
    "\n",
    "nltk.download('stopwords')\n",
    "nltk.download('averaged_perceptron_tagger')"
   ]
  },
  {
   "cell_type": "code",
   "execution_count": null,
   "metadata": {},
   "outputs": [],
   "source": [
    "url = 'https://vacationidea.com/destinations/best-things-to-do-in-cleveland.html'\n",
    "response = urllib.request.urlopen(url)\n",
    "html = response.read()\n",
    "soup = bs4.BeautifulSoup(html, 'html.parser')\n",
    "soup"
   ]
  },
  {
   "cell_type": "code",
   "execution_count": null,
   "metadata": {},
   "outputs": [],
   "source": [
    "for section in soup(['script', 'style']):\n",
    "    section.decompose()\n",
    "    \n",
    "text = soup.get_text()\n",
    "text"
   ]
  },
  {
   "cell_type": "code",
   "execution_count": null,
   "metadata": {},
   "outputs": [],
   "source": [
    "# Ignore punctuation, duplicates\n",
    "tokenizer = RegexpTokenizer(r'\\w+')\n",
    "tokens = set(tokenizer.tokenize(text))\n",
    "tokens"
   ]
  },
  {
   "cell_type": "code",
   "execution_count": null,
   "metadata": {},
   "outputs": [],
   "source": [
    "# Remove stop words, get proper nouns\n",
    "stop_words_set = set(stopwords.words())\n",
    "tokens = [w for w in tokens if not w in stop_words_set]\n",
    "proper = pos_tag(tokens)\n",
    "tokens = [w for w,pos in proper if pos in ['NNP', 'NNPS']]\n",
    "\n",
    "tokens"
   ]
  },
  {
   "cell_type": "markdown",
   "metadata": {},
   "source": [
    "# Geocoder Autocomplete\n",
    "\n",
    "Request is for a list of address suggestions for search text.  Can be used interactively as one types to test for a match, or useful for a list of tokens."
   ]
  },
  {
   "cell_type": "code",
   "execution_count": null,
   "metadata": {},
   "outputs": [],
   "source": [
    "import os\n",
    "import requests\n",
    "\n",
    "APP_ID_HERE = os.environ['APP_ID_HERE']\n",
    "APP_CODE_HERE = os.environ['APP_CODE_HERE']\n",
    "\n",
    "uri = 'https://autocomplete.geocoder.api.here.com/6.2/suggest.json'\n",
    "params = {\n",
    "    'app_id': APP_ID_HERE,\n",
    "    'app_code': APP_CODE_HERE,\n",
    "    'query': 'Charlottesville',\n",
    "}\n",
    "\n",
    "response = requests.get(uri, params=params)\n",
    "response.json()"
   ]
  },
  {
   "cell_type": "markdown",
   "metadata": {},
   "source": [
    "# Try It\n",
    "\n",
    "Parsing street addresses is tricky but give it a try to look for combinations of tokens when combined with autocomplete can help you identify location matches."
   ]
  }
 ],
 "metadata": {
  "kernelspec": {
   "display_name": "Python 3",
   "language": "python",
   "name": "python3"
  },
  "language_info": {
   "codemirror_mode": {
    "name": "ipython",
    "version": 3
   },
   "file_extension": ".py",
   "mimetype": "text/x-python",
   "name": "python",
   "nbconvert_exporter": "python",
   "pygments_lexer": "ipython3",
   "version": "3.7.0"
  }
 },
 "nbformat": 4,
 "nbformat_minor": 2
}
